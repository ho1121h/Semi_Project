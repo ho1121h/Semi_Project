{
 "cells": [
  {
   "cell_type": "code",
   "execution_count": 2,
   "id": "ccbbc1b8",
   "metadata": {},
   "outputs": [],
   "source": [
    "from PIL import Image\n",
    "import pytesseract"
   ]
  },
  {
   "cell_type": "code",
   "execution_count": 12,
   "id": "0f1d5337",
   "metadata": {},
   "outputs": [
    {
     "name": "stdout",
     "output_type": "stream",
     "text": [
      "Applied Linguistics 2012: 1-26 doi:10.1093/applin/ams012  Oxford University Press 2012  Learner—Corpus Interaction: A Locus of Microgenesis in Corpus-assisted L2 Writing  KWANGHYUN PARK  National Institute of Education, Singapore E-mail: kwanghyun.park@nie.edu.sg  This paper examines the processes through which learners interact with a corpus system and microgenetic development emerges from the interaction. The corpus system described in this paper is capable of retrieving highly rele- vant textual examples tailored to individual needs. Data were collected from an undergraduate ESL composition course in North America for one semester while students interacted with the system. Using exploratory techniques that triangulate on real-time screen recordings, corpus queries, and oral/written reflections, this paper documents these interactions as evidencing each lear- ner’s efforts to resolve issues by retrieving, evaluating, and appropriating the corpus search results. The findings show that the learner’s achievements depend both on their ability to interpret and exploit the search results and on the corpus system’s ability to respond to the learner's particular needs. Based on these findings, this paper suggests that corpus-based research should focus on maximizing the learner’s developmental potential by develop- ing more advanced corpus systems and enhancing the learner’s textual aware- ness and analytical ability.  INTRODUCTION  Over the past two decades, corpus linguistics has been increasingly recognized  ne a nawarfal mathedalnay im lamauade learning and taschina [Canvad Inn. \n"
     ]
    }
   ],
   "source": [
    "pytesseract.pytesseract.tesseract_cmd = r'C:\\Program Files\\Tesseract-OCR\\tesseract.exe'\n",
    "text = pytesseract.image_to_string(Image.open(\"abstract_sample.png\"))\n",
    "\n",
    "\n",
    "text = text.replace(\"\\n\",\" \")\n",
    "print(text)\n",
    "\n",
    "with open(\"tt.text\" , \"w\",encoding=\"utf8\") as f :\n",
    "    f.write(text)"
   ]
  },
  {
   "cell_type": "code",
   "execution_count": 15,
   "id": "6787e21e",
   "metadata": {},
   "outputs": [
    {
     "name": "stdout",
     "output_type": "stream",
     "text": [
      "Collecting opencv-python\n",
      "  Downloading opencv_python-4.6.0.66-cp36-abi3-win_amd64.whl (35.6 MB)\n",
      "Requirement already satisfied: numpy>=1.17.3 in c:\\users\\ho316\\anaconda3\\lib\\site-packages (from opencv-python) (1.19.5)\n",
      "Installing collected packages: opencv-python\n",
      "Successfully installed opencv-python-4.6.0.66\n"
     ]
    }
   ],
   "source": [
    "!pip install opencv-python"
   ]
  },
  {
   "cell_type": "code",
   "execution_count": null,
   "id": "45c618ab",
   "metadata": {},
   "outputs": [],
   "source": []
  }
 ],
 "metadata": {
  "kernelspec": {
   "display_name": "Python 3 (ipykernel)",
   "language": "python",
   "name": "python3"
  },
  "language_info": {
   "codemirror_mode": {
    "name": "ipython",
    "version": 3
   },
   "file_extension": ".py",
   "mimetype": "text/x-python",
   "name": "python",
   "nbconvert_exporter": "python",
   "pygments_lexer": "ipython3",
   "version": "3.9.7"
  }
 },
 "nbformat": 4,
 "nbformat_minor": 5
}
