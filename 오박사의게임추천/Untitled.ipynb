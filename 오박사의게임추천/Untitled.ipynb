{
 "cells": [
  {
   "cell_type": "code",
   "execution_count": 1,
   "id": "0ff0b84f",
   "metadata": {},
   "outputs": [],
   "source": [
    "import time\n",
    "import requests\n",
    "import csv\n",
    "from selenium import webdriver\n",
    "from bs4 import BeautifulSoup\n",
    "import os\n",
    "import sys\n",
    "from selenium.webdriver.common.keys import Keys\n",
    "import chromedriver_autoinstaller\n",
    "import warnings"
   ]
  },
  {
   "cell_type": "code",
   "execution_count": 2,
   "id": "72fd8888",
   "metadata": {},
   "outputs": [],
   "source": [
    "import pandas as pd"
   ]
  },
  {
   "cell_type": "code",
   "execution_count": 5,
   "id": "27f2372d",
   "metadata": {},
   "outputs": [
    {
     "data": {
      "text/plain": [
       "매출 순위    0\n",
       "평가       0\n",
       "게임번호     0\n",
       "dtype: int64"
      ]
     },
     "execution_count": 5,
     "metadata": {},
     "output_type": "execute_result"
    }
   ],
   "source": [
    "df = pd.read_csv('steam.csv')\n",
    "del df[\"Unnamed: 0\"]\n",
    "df = df.dropna()\n",
    "df.isna().sum()#제거됨"
   ]
  },
  {
   "cell_type": "code",
   "execution_count": 6,
   "id": "26f5265e",
   "metadata": {},
   "outputs": [
    {
     "data": {
      "text/plain": [
       "Index(['매출 순위', '평가', '게임번호'], dtype='object')"
      ]
     },
     "execution_count": 6,
     "metadata": {},
     "output_type": "execute_result"
    }
   ],
   "source": [
    "df.columns"
   ]
  },
  {
   "cell_type": "code",
   "execution_count": 15,
   "id": "0cd32137",
   "metadata": {},
   "outputs": [
    {
     "data": {
      "text/plain": [
       "array(['1361510', '1446780', '1174180', '1824220', '389730', '1245620',\n",
       "       '1517290', '1202130', '1551360', '1118010', '1569040', '261550',\n",
       "       '582160', '812140', '582010', '1604030', '1966010', '1506830',\n",
       "       '1147560', '1991100', '648800', '920210', '1635450',\n",
       "       '242050,260473,260474,260950', '1533420', '252490', '1966900',\n",
       "       '1776780', '1158310,1296731,1303182,1303183,1303184', '413150',\n",
       "       '1277400', '1775390', '323190', '1389360', '108600'], dtype=object)"
      ]
     },
     "execution_count": 15,
     "metadata": {},
     "output_type": "execute_result"
    }
   ],
   "source": [
    "id_list = df.게임번호.values\n",
    "id_list"
   ]
  },
  {
   "cell_type": "code",
   "execution_count": 16,
   "id": "39a0e7e8",
   "metadata": {},
   "outputs": [],
   "source": [
    "# 크롤링\n",
    "import requests\n",
    "import time\n",
    "def get_reviews(appid, params={'json':1}):\n",
    "        url = 'https://store.steampowered.com/appreviews/'\n",
    "        response = requests.get(url=url+str(appid), params=params, headers={'User-Agent': 'Mozilla/5.0'})\n",
    "        return response.json()\n",
    "\n",
    "#https://partner.steamgames.com/doc/store/getreviews 참고    \n",
    "def get_n_reviews(appid, n=100):#appid는 해당게임의 상점번호\n",
    "    reviews = []\n",
    "    cursor = '*'\n",
    "    params = {\n",
    "        'json' : 1,\n",
    "        'filter' : 'all',#필터 없이\n",
    "        'language' : 'koreana',#한국어로된 리뷰\n",
    "        'day_range' : 9223372036854775807,#전체기간의 리뷰\n",
    "        'review_type' : 'all',\n",
    "        # 'purchase_type' : 'all'\n",
    "    }\n",
    "\n",
    "    while n > 0:\n",
    "        time.sleep(2)#2초씩 쉬면서 크롤링\n",
    "        params['cursor'] = cursor.encode()\n",
    "        params['num_per_page'] = min(100, n)\n",
    "        n -= 100\n",
    "\n",
    "        response = get_reviews(appid, params)\n",
    "        cursor = response['cursor']\n",
    "        reviews += response['reviews']\n",
    "\n",
    "        if len(response['reviews']) < 100: break\n",
    "\n",
    "    return reviews"
   ]
  },
  {
   "cell_type": "code",
   "execution_count": 17,
   "id": "b838e037",
   "metadata": {},
   "outputs": [
    {
     "ename": "KeyboardInterrupt",
     "evalue": "",
     "output_type": "error",
     "traceback": [
      "\u001b[1;31m---------------------------------------------------------------------------\u001b[0m",
      "\u001b[1;31mKeyboardInterrupt\u001b[0m                         Traceback (most recent call last)",
      "\u001b[1;32m~\\AppData\\Local\\Temp/ipykernel_11716/2125611809.py\u001b[0m in \u001b[0;36m<module>\u001b[1;34m\u001b[0m\n\u001b[0;32m      1\u001b[0m \u001b[0mreviews\u001b[0m \u001b[1;33m=\u001b[0m \u001b[1;33m[\u001b[0m\u001b[1;33m]\u001b[0m\u001b[1;33m\u001b[0m\u001b[1;33m\u001b[0m\u001b[0m\n\u001b[0;32m      2\u001b[0m \u001b[1;32mfor\u001b[0m \u001b[0mi\u001b[0m \u001b[1;32min\u001b[0m \u001b[0mid_list\u001b[0m\u001b[1;33m:\u001b[0m\u001b[1;33m\u001b[0m\u001b[1;33m\u001b[0m\u001b[0m\n\u001b[1;32m----> 3\u001b[1;33m     \u001b[0mreviews\u001b[0m\u001b[1;33m.\u001b[0m\u001b[0mappend\u001b[0m\u001b[1;33m(\u001b[0m\u001b[0mget_n_reviews\u001b[0m\u001b[1;33m(\u001b[0m\u001b[0mi\u001b[0m\u001b[1;33m,\u001b[0m \u001b[1;36m100\u001b[0m\u001b[1;33m)\u001b[0m\u001b[1;33m)\u001b[0m\u001b[1;31m# (크롤링할 게임번호, 리뷰 갯수)\u001b[0m\u001b[1;33m\u001b[0m\u001b[1;33m\u001b[0m\u001b[0m\n\u001b[0m",
      "\u001b[1;32m~\\AppData\\Local\\Temp/ipykernel_11716/1729571590.py\u001b[0m in \u001b[0;36mget_n_reviews\u001b[1;34m(appid, n)\u001b[0m\n\u001b[0;32m     21\u001b[0m \u001b[1;33m\u001b[0m\u001b[0m\n\u001b[0;32m     22\u001b[0m     \u001b[1;32mwhile\u001b[0m \u001b[0mn\u001b[0m \u001b[1;33m>\u001b[0m \u001b[1;36m0\u001b[0m\u001b[1;33m:\u001b[0m\u001b[1;33m\u001b[0m\u001b[1;33m\u001b[0m\u001b[0m\n\u001b[1;32m---> 23\u001b[1;33m         \u001b[0mtime\u001b[0m\u001b[1;33m.\u001b[0m\u001b[0msleep\u001b[0m\u001b[1;33m(\u001b[0m\u001b[1;36m2\u001b[0m\u001b[1;33m)\u001b[0m\u001b[1;31m#2초씩 쉬면서 크롤링\u001b[0m\u001b[1;33m\u001b[0m\u001b[1;33m\u001b[0m\u001b[0m\n\u001b[0m\u001b[0;32m     24\u001b[0m         \u001b[0mparams\u001b[0m\u001b[1;33m[\u001b[0m\u001b[1;34m'cursor'\u001b[0m\u001b[1;33m]\u001b[0m \u001b[1;33m=\u001b[0m \u001b[0mcursor\u001b[0m\u001b[1;33m.\u001b[0m\u001b[0mencode\u001b[0m\u001b[1;33m(\u001b[0m\u001b[1;33m)\u001b[0m\u001b[1;33m\u001b[0m\u001b[1;33m\u001b[0m\u001b[0m\n\u001b[0;32m     25\u001b[0m         \u001b[0mparams\u001b[0m\u001b[1;33m[\u001b[0m\u001b[1;34m'num_per_page'\u001b[0m\u001b[1;33m]\u001b[0m \u001b[1;33m=\u001b[0m \u001b[0mmin\u001b[0m\u001b[1;33m(\u001b[0m\u001b[1;36m100\u001b[0m\u001b[1;33m,\u001b[0m \u001b[0mn\u001b[0m\u001b[1;33m)\u001b[0m\u001b[1;33m\u001b[0m\u001b[1;33m\u001b[0m\u001b[0m\n",
      "\u001b[1;31mKeyboardInterrupt\u001b[0m: "
     ]
    }
   ],
   "source": [
    "reviews = []\n",
    "for i in id_list:\n",
    "    reviews.append(get_n_reviews(i, 100))# (크롤링할 게임번호, 리뷰 갯수)"
   ]
  },
  {
   "cell_type": "code",
   "execution_count": null,
   "id": "48e72378",
   "metadata": {},
   "outputs": [],
   "source": [
    "reviews"
   ]
  },
  {
   "cell_type": "code",
   "execution_count": null,
   "id": "953c2066",
   "metadata": {},
   "outputs": [],
   "source": []
  }
 ],
 "metadata": {
  "kernelspec": {
   "display_name": "Python 3 (ipykernel)",
   "language": "python",
   "name": "python3"
  },
  "language_info": {
   "codemirror_mode": {
    "name": "ipython",
    "version": 3
   },
   "file_extension": ".py",
   "mimetype": "text/x-python",
   "name": "python",
   "nbconvert_exporter": "python",
   "pygments_lexer": "ipython3",
   "version": "3.9.7"
  }
 },
 "nbformat": 4,
 "nbformat_minor": 5
}
