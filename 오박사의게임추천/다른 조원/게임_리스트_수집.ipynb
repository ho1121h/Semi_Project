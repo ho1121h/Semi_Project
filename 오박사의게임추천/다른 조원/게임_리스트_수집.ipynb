{
 "cells": [
  {
   "cell_type": "code",
   "execution_count": 5,
   "id": "18068241",
   "metadata": {},
   "outputs": [],
   "source": [
    "import requests\n",
    "import re\n",
    "from html.parser import HTMLParser\n",
    "from bs4 import BeautifulSoup\n",
    "import pandas as pd\n",
    "import numpy as np\n",
    "from tqdm import tqdm\n",
    "import time"
   ]
  },
  {
   "cell_type": "code",
   "execution_count": 12,
   "id": "9d750be7",
   "metadata": {},
   "outputs": [
    {
     "name": "stderr",
     "output_type": "stream",
     "text": [
      "100%|██████████████████████████████████████████████████████████████████████████████████| 19/19 [00:46<00:00,  2.47s/it]\n"
     ]
    }
   ],
   "source": [
    "name_l = []\n",
    "id_l = []\n",
    "\n",
    "for i in tqdm(range(50,1000,50)):\n",
    "    time.sleep(2)\n",
    "    response = requests.get(f'https://store.steampowered.com/search/results/?query&start={i}&count=50&dynamic_data=&force_infinite=1&category1=998&snr=1_7_7_230_7&infinite=13')\n",
    "    data = response.json()\n",
    "    data = data['results_html']\n",
    "    soup = BeautifulSoup(data, 'html.parser')\n",
    "    \n",
    "    l = soup.find_all('span', class_='title')\n",
    "    for i in l:\n",
    "        name_l.append(i.text)\n",
    "    \n",
    "    id = soup.select('a.search_result_row.ds_collapse_flag')\n",
    "    for i in id:\n",
    "        id_l.append(i.get('data-ds-appid'))"
   ]
  },
  {
   "cell_type": "code",
   "execution_count": 13,
   "id": "3cb5d78d",
   "metadata": {},
   "outputs": [
    {
     "data": {
      "text/plain": [
       "(950, 950)"
      ]
     },
     "execution_count": 13,
     "metadata": {},
     "output_type": "execute_result"
    }
   ],
   "source": [
    "len(name_l), len(id_l)"
   ]
  },
  {
   "cell_type": "code",
   "execution_count": 16,
   "id": "5ae2fc44",
   "metadata": {},
   "outputs": [
    {
     "data": {
      "text/html": [
       "<div>\n",
       "<style scoped>\n",
       "    .dataframe tbody tr th:only-of-type {\n",
       "        vertical-align: middle;\n",
       "    }\n",
       "\n",
       "    .dataframe tbody tr th {\n",
       "        vertical-align: top;\n",
       "    }\n",
       "\n",
       "    .dataframe thead th {\n",
       "        text-align: right;\n",
       "    }\n",
       "</style>\n",
       "<table border=\"1\" class=\"dataframe\">\n",
       "  <thead>\n",
       "    <tr style=\"text-align: right;\">\n",
       "      <th></th>\n",
       "      <th>game_name</th>\n",
       "      <th>game_id</th>\n",
       "    </tr>\n",
       "  </thead>\n",
       "  <tbody>\n",
       "    <tr>\n",
       "      <th>0</th>\n",
       "      <td>Assassin's Creed® Odyssey</td>\n",
       "      <td>812140</td>\n",
       "    </tr>\n",
       "    <tr>\n",
       "      <th>1</th>\n",
       "      <td>Sniper Elite 5</td>\n",
       "      <td>1029690</td>\n",
       "    </tr>\n",
       "    <tr>\n",
       "      <th>2</th>\n",
       "      <td>Sea of Thieves</td>\n",
       "      <td>1172620</td>\n",
       "    </tr>\n",
       "    <tr>\n",
       "      <th>3</th>\n",
       "      <td>Battlefield V</td>\n",
       "      <td>1238810</td>\n",
       "    </tr>\n",
       "    <tr>\n",
       "      <th>4</th>\n",
       "      <td>Peglin</td>\n",
       "      <td>1296610</td>\n",
       "    </tr>\n",
       "    <tr>\n",
       "      <th>...</th>\n",
       "      <td>...</td>\n",
       "      <td>...</td>\n",
       "    </tr>\n",
       "    <tr>\n",
       "      <th>945</th>\n",
       "      <td>Battlefield 3™</td>\n",
       "      <td>1238820</td>\n",
       "    </tr>\n",
       "    <tr>\n",
       "      <th>946</th>\n",
       "      <td>Hidden Through Time</td>\n",
       "      <td>524910</td>\n",
       "    </tr>\n",
       "    <tr>\n",
       "      <th>947</th>\n",
       "      <td>The Legend of Heroes: Trails in the Sky SC</td>\n",
       "      <td>251290</td>\n",
       "    </tr>\n",
       "    <tr>\n",
       "      <th>948</th>\n",
       "      <td>One Step From Eden</td>\n",
       "      <td>960690</td>\n",
       "    </tr>\n",
       "    <tr>\n",
       "      <th>949</th>\n",
       "      <td>Spelunky 2</td>\n",
       "      <td>418530</td>\n",
       "    </tr>\n",
       "  </tbody>\n",
       "</table>\n",
       "<p>950 rows × 2 columns</p>\n",
       "</div>"
      ],
      "text/plain": [
       "                                      game_name  game_id\n",
       "0                     Assassin's Creed® Odyssey   812140\n",
       "1                                Sniper Elite 5  1029690\n",
       "2                                Sea of Thieves  1172620\n",
       "3                                 Battlefield V  1238810\n",
       "4                                        Peglin  1296610\n",
       "..                                          ...      ...\n",
       "945                              Battlefield 3™  1238820\n",
       "946                         Hidden Through Time   524910\n",
       "947  The Legend of Heroes: Trails in the Sky SC   251290\n",
       "948                          One Step From Eden   960690\n",
       "949                                  Spelunky 2   418530\n",
       "\n",
       "[950 rows x 2 columns]"
      ]
     },
     "execution_count": 16,
     "metadata": {},
     "output_type": "execute_result"
    }
   ],
   "source": [
    "data =pd.DataFrame(zip(name_l, id_l), columns = ['game_name', 'game_id'])\n",
    "data"
   ]
  },
  {
   "cell_type": "code",
   "execution_count": 17,
   "id": "1f2603e6",
   "metadata": {},
   "outputs": [],
   "source": [
    "data.to_csv(\"게임_리스트_수집_950.csv\", encoding='utf-8-sig')"
   ]
  },
  {
   "cell_type": "code",
   "execution_count": null,
   "id": "302361b2",
   "metadata": {},
   "outputs": [],
   "source": []
  },
  {
   "cell_type": "code",
   "execution_count": null,
   "id": "0bce05b8",
   "metadata": {},
   "outputs": [],
   "source": []
  },
  {
   "cell_type": "code",
   "execution_count": null,
   "id": "fb4d20f0",
   "metadata": {},
   "outputs": [],
   "source": []
  },
  {
   "cell_type": "code",
   "execution_count": null,
   "id": "f0df703c",
   "metadata": {},
   "outputs": [],
   "source": []
  }
 ],
 "metadata": {
  "kernelspec": {
   "display_name": "Python 3 (ipykernel)",
   "language": "python",
   "name": "python3"
  },
  "language_info": {
   "codemirror_mode": {
    "name": "ipython",
    "version": 3
   },
   "file_extension": ".py",
   "mimetype": "text/x-python",
   "name": "python",
   "nbconvert_exporter": "python",
   "pygments_lexer": "ipython3",
   "version": "3.9.7"
  }
 },
 "nbformat": 4,
 "nbformat_minor": 5
}
