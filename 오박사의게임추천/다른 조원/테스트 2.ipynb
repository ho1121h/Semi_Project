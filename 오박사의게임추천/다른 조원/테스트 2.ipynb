{
 "cells": [
  {
   "cell_type": "code",
   "execution_count": 2,
   "id": "aef64c2f",
   "metadata": {},
   "outputs": [],
   "source": [
    "import pandas as pd\n",
    "import numpy as np\n",
    "\n",
    "from sklearn.metrics.pairwise import cosine_similarity\n",
    "from sklearn.metrics import mean_squared_error\n",
    "import tensorflow as tf\n",
    "import tqdm.notebook\n",
    "import math"
   ]
  },
  {
   "cell_type": "code",
   "execution_count": 3,
   "id": "6c3de8d2",
   "metadata": {},
   "outputs": [],
   "source": [
    "games = pd.read_csv(\"데이터셋1.csv\",)"
   ]
  },
  {
   "cell_type": "code",
   "execution_count": 17,
   "id": "790dd537",
   "metadata": {},
   "outputs": [
    {
     "data": {
      "text/html": [
       "<div>\n",
       "<style scoped>\n",
       "    .dataframe tbody tr th:only-of-type {\n",
       "        vertical-align: middle;\n",
       "    }\n",
       "\n",
       "    .dataframe tbody tr th {\n",
       "        vertical-align: top;\n",
       "    }\n",
       "\n",
       "    .dataframe thead th {\n",
       "        text-align: right;\n",
       "    }\n",
       "</style>\n",
       "<table border=\"1\" class=\"dataframe\">\n",
       "  <thead>\n",
       "    <tr style=\"text-align: right;\">\n",
       "      <th></th>\n",
       "      <th>game_name</th>\n",
       "      <th>game_id</th>\n",
       "      <th>review</th>\n",
       "    </tr>\n",
       "  </thead>\n",
       "  <tbody>\n",
       "    <tr>\n",
       "      <th>2005</th>\n",
       "      <td>Hero Siege</td>\n",
       "      <td>269210</td>\n",
       "      <td>내가 수많은 스팀게임중에 유일하게 리뷰남기는 작품이다 심지어 똥겜 히마매도 재밌게했...</td>\n",
       "    </tr>\n",
       "    <tr>\n",
       "      <th>2006</th>\n",
       "      <td>Love Delivery</td>\n",
       "      <td>1817940</td>\n",
       "      <td>에휴 시팔 내인생</td>\n",
       "    </tr>\n",
       "    <tr>\n",
       "      <th>2007</th>\n",
       "      <td>Love Delivery</td>\n",
       "      <td>1817940</td>\n",
       "      <td>나 사나이 김호진 원으로 사랑 을 알았다</td>\n",
       "    </tr>\n",
       "    <tr>\n",
       "      <th>2008</th>\n",
       "      <td>Love Delivery</td>\n",
       "      <td>1817940</td>\n",
       "      <td>어느 겨울날 시간 동안 이 게임을 플레이한 어떤 씹덕이 울고 있었습니다 그 모습을 ...</td>\n",
       "    </tr>\n",
       "    <tr>\n",
       "      <th>2009</th>\n",
       "      <td>Love Delivery</td>\n",
       "      <td>1817940</td>\n",
       "      <td>박실장 루트 안만들어주면 바지에 똥쌀거임</td>\n",
       "    </tr>\n",
       "    <tr>\n",
       "      <th>...</th>\n",
       "      <td>...</td>\n",
       "      <td>...</td>\n",
       "      <td>...</td>\n",
       "    </tr>\n",
       "    <tr>\n",
       "      <th>3005</th>\n",
       "      <td>Demon Slayer -Kimetsu no Yaiba- The Hinokami C...</td>\n",
       "      <td>1490890</td>\n",
       "      <td>님들아 프레임 하는법 가르켜드림 먼저 윈도우키랑 같이 눌러서 실행창을 켜 거기에다 ...</td>\n",
       "    </tr>\n",
       "    <tr>\n",
       "      <th>3006</th>\n",
       "      <td>Demon Slayer -Kimetsu no Yaiba- The Hinokami C...</td>\n",
       "      <td>1490890</td>\n",
       "      <td>나루티밋의 제작사 사이버커넥트 의 신작 귀칼 히노카미 혈풍담 입니다 스토리모드 클리...</td>\n",
       "    </tr>\n",
       "    <tr>\n",
       "      <th>3007</th>\n",
       "      <td>Demon Slayer -Kimetsu no Yaiba- The Hinokami C...</td>\n",
       "      <td>1490890</td>\n",
       "      <td>진심 가격만 어떻게 좀 해줘 흑우 소리 그만 듣고 싶어</td>\n",
       "    </tr>\n",
       "    <tr>\n",
       "      <th>3008</th>\n",
       "      <td>Demon Slayer -Kimetsu no Yaiba- The Hinokami C...</td>\n",
       "      <td>1490890</td>\n",
       "      <td>게임 자체는 확실히 재미있는데 지나치게 비싼 가격이랑 컨텐츠 볼륨 플레이어블 캐릭터...</td>\n",
       "    </tr>\n",
       "    <tr>\n",
       "      <th>3009</th>\n",
       "      <td>Demon Slayer -Kimetsu no Yaiba- The Hinokami C...</td>\n",
       "      <td>1490890</td>\n",
       "      <td>저는 우즈이텐겐 나오면 도좋을것 같네요</td>\n",
       "    </tr>\n",
       "  </tbody>\n",
       "</table>\n",
       "<p>1000 rows × 3 columns</p>\n",
       "</div>"
      ],
      "text/plain": [
       "                                              game_name  game_id  \\\n",
       "2005                                         Hero Siege   269210   \n",
       "2006                                      Love Delivery  1817940   \n",
       "2007                                      Love Delivery  1817940   \n",
       "2008                                      Love Delivery  1817940   \n",
       "2009                                      Love Delivery  1817940   \n",
       "...                                                 ...      ...   \n",
       "3005  Demon Slayer -Kimetsu no Yaiba- The Hinokami C...  1490890   \n",
       "3006  Demon Slayer -Kimetsu no Yaiba- The Hinokami C...  1490890   \n",
       "3007  Demon Slayer -Kimetsu no Yaiba- The Hinokami C...  1490890   \n",
       "3008  Demon Slayer -Kimetsu no Yaiba- The Hinokami C...  1490890   \n",
       "3009  Demon Slayer -Kimetsu no Yaiba- The Hinokami C...  1490890   \n",
       "\n",
       "                                                 review  \n",
       "2005  내가 수많은 스팀게임중에 유일하게 리뷰남기는 작품이다 심지어 똥겜 히마매도 재밌게했...  \n",
       "2006                                          에휴 시팔 내인생  \n",
       "2007                             나 사나이 김호진 원으로 사랑 을 알았다  \n",
       "2008  어느 겨울날 시간 동안 이 게임을 플레이한 어떤 씹덕이 울고 있었습니다 그 모습을 ...  \n",
       "2009                             박실장 루트 안만들어주면 바지에 똥쌀거임  \n",
       "...                                                 ...  \n",
       "3005  님들아 프레임 하는법 가르켜드림 먼저 윈도우키랑 같이 눌러서 실행창을 켜 거기에다 ...  \n",
       "3006  나루티밋의 제작사 사이버커넥트 의 신작 귀칼 히노카미 혈풍담 입니다 스토리모드 클리...  \n",
       "3007                     진심 가격만 어떻게 좀 해줘 흑우 소리 그만 듣고 싶어  \n",
       "3008  게임 자체는 확실히 재미있는데 지나치게 비싼 가격이랑 컨텐츠 볼륨 플레이어블 캐릭터...  \n",
       "3009                              저는 우즈이텐겐 나오면 도좋을것 같네요  \n",
       "\n",
       "[1000 rows x 3 columns]"
      ]
     },
     "execution_count": 17,
     "metadata": {},
     "output_type": "execute_result"
    }
   ],
   "source": [
    "games = games.dropna()\n",
    "games.isna().sum()\n",
    "games = games[:500]\n",
    "games"
   ]
  },
  {
   "cell_type": "code",
   "execution_count": 15,
   "id": "f66357a2",
   "metadata": {},
   "outputs": [
    {
     "name": "stdout",
     "output_type": "stream",
     "text": [
      "Wall time: 2min 24s\n"
     ]
    },
    {
     "data": {
      "text/plain": [
       "array([[-0.48881447,  0.20281062,  0.17519392, ..., -0.12037084,\n",
       "        -0.2791106 , -0.45034245],\n",
       "       [-0.6697807 , -0.27929747,  0.45898083, ...,  0.28281316,\n",
       "        -0.5181373 , -0.40045702],\n",
       "       [-0.3595309 , -0.30974945,  0.39634565, ..., -0.7340479 ,\n",
       "        -0.9821329 , -0.7587818 ],\n",
       "       [-0.517207  , -0.1721754 ,  0.13514757, ...,  0.21955201,\n",
       "        -0.65254945, -0.20872994],\n",
       "       [-0.26101547,  0.17759064,  0.05302547, ...,  0.6265221 ,\n",
       "        -0.6751069 ,  0.19760269]], dtype=float32)"
      ]
     },
     "execution_count": 15,
     "metadata": {},
     "output_type": "execute_result"
    }
   ],
   "source": [
    "%%time\n",
    "from sentence_transformers import SentenceTransformer\n",
    "\n",
    "corpus = games['review'].values.tolist() # 리뷰 임베딩\n",
    "\n",
    "model = SentenceTransformer('jhgan/ko-sroberta-multitask')\n",
    "\n",
    "embeddings = (model.encode(corpus))# 리뷰 데이터 전부 인코딩 (센텐스 버트 모델)\n",
    "\n",
    "embeddings[:5]\n",
    "#임베딩 = 정규화(컴퓨터가 알아먹게끔)"
   ]
  },
  {
   "cell_type": "code",
   "execution_count": 19,
   "id": "7fe5d73c",
   "metadata": {
    "scrolled": true
   },
   "outputs": [
    {
     "name": "stdout",
     "output_type": "stream",
     "text": [
      "중세시대 게임 추천해줘\n"
     ]
    }
   ],
   "source": [
    "from sklearn.metrics.pairwise import cosine_similarity\n",
    "\n",
    "input_emb=model.encode(input()) # ex ) 어려운 게임\n",
    "games_sim = cosine_similarity([input_emb],embeddings)"
   ]
  },
  {
   "cell_type": "code",
   "execution_count": 21,
   "id": "ecda8bd5",
   "metadata": {},
   "outputs": [
    {
     "data": {
      "text/html": [
       "<div>\n",
       "<style scoped>\n",
       "    .dataframe tbody tr th:only-of-type {\n",
       "        vertical-align: middle;\n",
       "    }\n",
       "\n",
       "    .dataframe tbody tr th {\n",
       "        vertical-align: top;\n",
       "    }\n",
       "\n",
       "    .dataframe thead th {\n",
       "        text-align: right;\n",
       "    }\n",
       "</style>\n",
       "<table border=\"1\" class=\"dataframe\">\n",
       "  <thead>\n",
       "    <tr style=\"text-align: right;\">\n",
       "      <th></th>\n",
       "      <th>game_name</th>\n",
       "    </tr>\n",
       "  </thead>\n",
       "  <tbody>\n",
       "    <tr>\n",
       "      <th>2768</th>\n",
       "      <td>DEATH STRANDING DIRECTOR'S CUT</td>\n",
       "    </tr>\n",
       "    <tr>\n",
       "      <th>2666</th>\n",
       "      <td>Symphony of War: The Nephilim Saga</td>\n",
       "    </tr>\n",
       "    <tr>\n",
       "      <th>2828</th>\n",
       "      <td>Kingdom Come: Deliverance</td>\n",
       "    </tr>\n",
       "    <tr>\n",
       "      <th>2584</th>\n",
       "      <td>Prehistoric Kingdom</td>\n",
       "    </tr>\n",
       "    <tr>\n",
       "      <th>2316</th>\n",
       "      <td>Europa Universalis IV</td>\n",
       "    </tr>\n",
       "  </tbody>\n",
       "</table>\n",
       "</div>"
      ],
      "text/plain": [
       "                               game_name\n",
       "2768      DEATH STRANDING DIRECTOR'S CUT\n",
       "2666  Symphony of War: The Nephilim Saga\n",
       "2828           Kingdom Come: Deliverance\n",
       "2584                 Prehistoric Kingdom\n",
       "2316               Europa Universalis IV"
      ]
     },
     "execution_count": 21,
     "metadata": {},
     "output_type": "execute_result"
    }
   ],
   "source": [
    "games_sim_sorted_ind = games_sim.argsort()[:, ::-1]\n",
    "similar_indexes = games_sim_sorted_ind.reshape(-1)\n",
    "recom_games=games.iloc[similar_indexes]\n",
    "\n",
    "df = pd.DataFrame(recom_games['game_name'].drop_duplicates())\n",
    "df[:5]"
   ]
  },
  {
   "cell_type": "code",
   "execution_count": null,
   "id": "a268863b",
   "metadata": {},
   "outputs": [],
   "source": []
  },
  {
   "cell_type": "code",
   "execution_count": null,
   "id": "0ce1000f",
   "metadata": {},
   "outputs": [],
   "source": []
  },
  {
   "cell_type": "code",
   "execution_count": null,
   "id": "ff17c90b",
   "metadata": {},
   "outputs": [],
   "source": []
  },
  {
   "cell_type": "code",
   "execution_count": null,
   "id": "7facc405",
   "metadata": {},
   "outputs": [],
   "source": []
  }
 ],
 "metadata": {
  "kernelspec": {
   "display_name": "Python 3 (ipykernel)",
   "language": "python",
   "name": "python3"
  },
  "language_info": {
   "codemirror_mode": {
    "name": "ipython",
    "version": 3
   },
   "file_extension": ".py",
   "mimetype": "text/x-python",
   "name": "python",
   "nbconvert_exporter": "python",
   "pygments_lexer": "ipython3",
   "version": "3.9.7"
  }
 },
 "nbformat": 4,
 "nbformat_minor": 5
}
