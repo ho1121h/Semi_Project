{
 "cells": [
  {
   "cell_type": "code",
   "execution_count": 1,
   "id": "2e85cbb9",
   "metadata": {},
   "outputs": [],
   "source": [
    "import time\n",
    "import requests\n",
    "import csv\n",
    "from selenium import webdriver\n",
    "from bs4 import BeautifulSoup\n",
    "import os\n",
    "import sys\n",
    "from selenium.webdriver.common.keys import Keys\n",
    "import chromedriver_autoinstaller\n",
    "import warnings\n",
    "import pandas as pd\n",
    "import numpy as np"
   ]
  },
  {
   "cell_type": "code",
   "execution_count": 2,
   "id": "d3fabf7a",
   "metadata": {},
   "outputs": [
    {
     "data": {
      "text/plain": [
       "Index(['매출 순위', '평가', '게임번호'], dtype='object')"
      ]
     },
     "execution_count": 2,
     "metadata": {},
     "output_type": "execute_result"
    }
   ],
   "source": [
    "df = pd.read_csv('steam.csv')\n",
    "del df[\"Unnamed: 0\"]\n",
    "df = df.dropna()\n",
    "df.isna().sum()#제거됨\n",
    "df.columns"
   ]
  },
  {
   "cell_type": "code",
   "execution_count": 3,
   "id": "04e9c2f3",
   "metadata": {},
   "outputs": [
    {
     "data": {
      "text/plain": [
       "array(['1361510', '1446780', '1174180', '1824220', '389730', '1245620',\n",
       "       '1517290', '1202130', '1551360', '1118010', '1569040', '261550',\n",
       "       '582160', '812140', '582010', '1604030', '1966010', '1506830',\n",
       "       '1147560', '1991100', '648800', '920210', '1635450',\n",
       "       '242050,260473,260474,260950', '1533420', '252490', '1966900',\n",
       "       '1776780', '1158310,1296731,1303182,1303183,1303184', '413150',\n",
       "       '1277400', '1775390', '323190', '1389360', '108600'], dtype=object)"
      ]
     },
     "execution_count": 3,
     "metadata": {},
     "output_type": "execute_result"
    }
   ],
   "source": [
    "id_list = df.게임번호.values\n",
    "id_list"
   ]
  },
  {
   "cell_type": "code",
   "execution_count": null,
   "id": "6558860b",
   "metadata": {},
   "outputs": [],
   "source": [
    "# 크롤링\n",
    "import requests\n",
    "import time\n",
    "def get_reviews(appid, params={'json':1}):\n",
    "        url = 'https://store.steampowered.com/appreviews/'\n",
    "        response = requests.get(url=url+str(appid), params=params, headers={'User-Agent': 'Mozilla/5.0'})\n",
    "        return response.json()\n",
    "\n",
    "#https://partner.steamgames.com/doc/store/getreviews 참고    \n",
    "def get_n_reviews(appid, n=100):#appid는 해당게임의 상점번호\n",
    "    reviews = []\n",
    "    cursor = '*'\n",
    "    params = {\n",
    "        'json' : 1,\n",
    "        'filter' : 'all',#필터 없이\n",
    "        'language' : 'koreana',#한국어로된 리뷰\n",
    "        'day_range' : 9223372036854775807,#전체기간의 리뷰\n",
    "        'review_type' : 'all',\n",
    "        # 'purchase_type' : 'all'\n",
    "    }\n",
    "\n",
    "    while n > 0:\n",
    "        time.sleep(2)#2초씩 쉬면서 크롤링\n",
    "        params['cursor'] = cursor.encode()\n",
    "        params['num_per_page'] = min(100, n)\n",
    "        n -= 100\n",
    "\n",
    "        response = get_reviews(appid, params)\n",
    "        cursor = response['cursor']\n",
    "        reviews += response['reviews']\n",
    "\n",
    "        if len(response['reviews']) < 100: break\n",
    "\n",
    "    return reviews"
   ]
  },
  {
   "cell_type": "code",
   "execution_count": null,
   "id": "053db65c",
   "metadata": {},
   "outputs": [],
   "source": [
    "reviews = []\n",
    "for i in id_list:\n",
    "    reviews.append(get_n_reviews(i, 100))# (크롤링할 게임번호, 리뷰 갯수)"
   ]
  },
  {
   "cell_type": "code",
   "execution_count": null,
   "id": "507d4546",
   "metadata": {},
   "outputs": [],
   "source": [
    "\n",
    "df2 = pd.DataFrame()\n",
    "\n",
    "for i in range(len(reviews)):\n",
    "  data = pd.DataFrame.from_dict(reviews[i])\n",
    "  data['gameid'] = id_list[i]\n",
    "  df2 = df2.append(data)\n",
    "\n",
    "df2.reset_index(drop = True)"
   ]
  },
  {
   "cell_type": "code",
   "execution_count": null,
   "id": "1874c81e",
   "metadata": {},
   "outputs": [],
   "source": [
    "df2 = df2[['gameid','review']]\n",
    "df2"
   ]
  },
  {
   "cell_type": "code",
   "execution_count": null,
   "id": "5a7b8ea8",
   "metadata": {},
   "outputs": [],
   "source": [
    "#전처리 ( 공백제거 따옴표 제거 특문 제거 ,최대문자설정, 좌우공백 제거)\n",
    "df2['review'] = df2['review'] \\\n",
    "  .replace(r'[^가-힣 ]', ' ', regex=True) \\\n",
    "  .replace(\"'\", '') \\\n",
    "  .replace(r'\\s+', ' ', regex=True) \\\n",
    "  .str.strip() \\\n",
    "  .str[:255]\n",
    "\n",
    "df2.head()"
   ]
  },
  {
   "cell_type": "code",
   "execution_count": null,
   "id": "d7d6e17e",
   "metadata": {},
   "outputs": [],
   "source": [
    "# 공백 리뷰 제거\n",
    "df2 = df2[df2['review'].str.strip().astype(bool)]\n",
    "\n",
    "len(df) # 제거되고난뒤 리뷰 갯수"
   ]
  },
  {
   "cell_type": "code",
   "execution_count": null,
   "id": "7b9d9cbb",
   "metadata": {},
   "outputs": [],
   "source": [
    "df2.rename(columns={'gameid':'게임번호','review': '리뷰'},inplace=True)\n",
    "df2"
   ]
  },
  {
   "cell_type": "code",
   "execution_count": null,
   "id": "62622c58",
   "metadata": {},
   "outputs": [],
   "source": [
    "데이터셋 = pd.merge(df,df2 ,how='outer',on = '게임번호')\n",
    "데이터셋= 데이터셋[['매출 순위','평가','게임번호','리뷰']]"
   ]
  },
  {
   "cell_type": "code",
   "execution_count": null,
   "id": "4efdd78d",
   "metadata": {},
   "outputs": [],
   "source": [
    "데이터셋"
   ]
  },
  {
   "cell_type": "code",
   "execution_count": null,
   "id": "f6bd754c",
   "metadata": {},
   "outputs": [],
   "source": []
  }
 ],
 "metadata": {
  "kernelspec": {
   "display_name": "Python 3 (ipykernel)",
   "language": "python",
   "name": "python3"
  },
  "language_info": {
   "codemirror_mode": {
    "name": "ipython",
    "version": 3
   },
   "file_extension": ".py",
   "mimetype": "text/x-python",
   "name": "python",
   "nbconvert_exporter": "python",
   "pygments_lexer": "ipython3",
   "version": "3.9.7"
  }
 },
 "nbformat": 4,
 "nbformat_minor": 5
}
