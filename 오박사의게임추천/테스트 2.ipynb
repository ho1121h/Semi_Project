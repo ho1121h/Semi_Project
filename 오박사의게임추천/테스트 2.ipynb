{
 "cells": [
  {
   "cell_type": "code",
   "execution_count": 1,
   "id": "aef64c2f",
   "metadata": {},
   "outputs": [],
   "source": [
    "import pandas as pd\n",
    "import numpy as np\n",
    "\n",
    "from sklearn.metrics.pairwise import cosine_similarity\n",
    "from sklearn.metrics import mean_squared_error"
   ]
  },
  {
   "cell_type": "code",
   "execution_count": 2,
   "id": "6c3de8d2",
   "metadata": {},
   "outputs": [],
   "source": [
    "games = pd.read_csv(\"리뷰.csv\")"
   ]
  },
  {
   "cell_type": "code",
   "execution_count": 3,
   "id": "790dd537",
   "metadata": {},
   "outputs": [
    {
     "data": {
      "text/plain": [
       "Index(['gameid', 'review', 'steam_purchase'], dtype='object')"
      ]
     },
     "execution_count": 3,
     "metadata": {},
     "output_type": "execute_result"
    }
   ],
   "source": [
    "games.columns"
   ]
  },
  {
   "cell_type": "code",
   "execution_count": 26,
   "id": "f66357a2",
   "metadata": {},
   "outputs": [
    {
     "name": "stdout",
     "output_type": "stream",
     "text": [
      "Wall time: 1min 59s\n"
     ]
    },
    {
     "data": {
      "text/plain": [
       "array([[ 0.35382712, -0.5697627 , -0.21683566, ..., -0.49454522,\n",
       "        -0.35012427,  0.5360391 ],\n",
       "       [-0.4420631 ,  0.32140914, -0.00313227, ...,  0.5397908 ,\n",
       "        -0.28604984, -0.00709499],\n",
       "       [-0.5415595 , -0.05684227,  0.488865  , ...,  0.32799715,\n",
       "        -0.33207694, -0.32564157],\n",
       "       [-0.67893726,  0.06479859, -0.0687719 , ..., -0.22632687,\n",
       "        -0.5452238 , -0.28211895],\n",
       "       [-0.80998045,  0.28364825,  0.33774677, ...,  0.7681231 ,\n",
       "        -0.25370428,  0.01956286]], dtype=float32)"
      ]
     },
     "execution_count": 26,
     "metadata": {},
     "output_type": "execute_result"
    }
   ],
   "source": [
    "%%time\n",
    "from sentence_transformers import SentenceTransformer\n",
    "\n",
    "corpus = games['review'].values.tolist() # 리뷰 임베딩\n",
    "\n",
    "model = SentenceTransformer('jhgan/ko-sroberta-multitask')\n",
    "\n",
    "embeddings = model.encode(corpus)# 리뷰 데이터 전부 인코딩 (센텐스 버트 모델)\n",
    "\n",
    "embeddings[:5]\n",
    "#임베딩 = 정규화(컴퓨터가 알아먹게끔)"
   ]
  },
  {
   "cell_type": "code",
   "execution_count": 30,
   "id": "7fe5d73c",
   "metadata": {
    "scrolled": true
   },
   "outputs": [
    {
     "name": "stdout",
     "output_type": "stream",
     "text": [
      "중세시대\n"
     ]
    }
   ],
   "source": [
    "from sklearn.metrics.pairwise import cosine_similarity\n",
    "\n",
    "input_emb=model.encode(input()) # ex ) 어려운 게임\n",
    "games_sim = cosine_similarity([input_emb],embeddings)"
   ]
  },
  {
   "cell_type": "code",
   "execution_count": 31,
   "id": "ecda8bd5",
   "metadata": {},
   "outputs": [
    {
     "data": {
      "text/html": [
       "<div>\n",
       "<style scoped>\n",
       "    .dataframe tbody tr th:only-of-type {\n",
       "        vertical-align: middle;\n",
       "    }\n",
       "\n",
       "    .dataframe tbody tr th {\n",
       "        vertical-align: top;\n",
       "    }\n",
       "\n",
       "    .dataframe thead th {\n",
       "        text-align: right;\n",
       "    }\n",
       "</style>\n",
       "<table border=\"1\" class=\"dataframe\">\n",
       "  <thead>\n",
       "    <tr style=\"text-align: right;\">\n",
       "      <th></th>\n",
       "      <th>gameid</th>\n",
       "    </tr>\n",
       "  </thead>\n",
       "  <tbody>\n",
       "    <tr>\n",
       "      <th>459</th>\n",
       "      <td>God_of_War</td>\n",
       "    </tr>\n",
       "    <tr>\n",
       "      <th>929</th>\n",
       "      <td>DARK_SOULS_III</td>\n",
       "    </tr>\n",
       "    <tr>\n",
       "      <th>228</th>\n",
       "      <td>Devil_May_Cry_5</td>\n",
       "    </tr>\n",
       "    <tr>\n",
       "      <th>653</th>\n",
       "      <td>Monster_Hunter_World</td>\n",
       "    </tr>\n",
       "    <tr>\n",
       "      <th>77</th>\n",
       "      <td>DJMAX</td>\n",
       "    </tr>\n",
       "    <tr>\n",
       "      <th>776</th>\n",
       "      <td>Valheim</td>\n",
       "    </tr>\n",
       "    <tr>\n",
       "      <th>869</th>\n",
       "      <td>FIFA_22</td>\n",
       "    </tr>\n",
       "    <tr>\n",
       "      <th>148</th>\n",
       "      <td>Ready_or_Not</td>\n",
       "    </tr>\n",
       "    <tr>\n",
       "      <th>363</th>\n",
       "      <td>Longvinter</td>\n",
       "    </tr>\n",
       "    <tr>\n",
       "      <th>492</th>\n",
       "      <td>ELDEN_RING</td>\n",
       "    </tr>\n",
       "  </tbody>\n",
       "</table>\n",
       "</div>"
      ],
      "text/plain": [
       "                   gameid\n",
       "459            God_of_War\n",
       "929        DARK_SOULS_III\n",
       "228       Devil_May_Cry_5\n",
       "653  Monster_Hunter_World\n",
       "77                  DJMAX\n",
       "776               Valheim\n",
       "869               FIFA_22\n",
       "148          Ready_or_Not\n",
       "363            Longvinter\n",
       "492            ELDEN_RING"
      ]
     },
     "execution_count": 31,
     "metadata": {},
     "output_type": "execute_result"
    }
   ],
   "source": [
    "games_sim_sorted_ind = games_sim.argsort()[:, ::-1]\n",
    "similar_indexes = games_sim_sorted_ind.reshape(-1)\n",
    "recom_games=games.iloc[similar_indexes]\n",
    "\n",
    "recom_games[:10]\n",
    "df = pd.DataFrame(recom_games.gameid.drop_duplicates())\n",
    "df"
   ]
  },
  {
   "cell_type": "code",
   "execution_count": null,
   "id": "a268863b",
   "metadata": {},
   "outputs": [],
   "source": []
  },
  {
   "cell_type": "code",
   "execution_count": null,
   "id": "0ce1000f",
   "metadata": {},
   "outputs": [],
   "source": []
  },
  {
   "cell_type": "code",
   "execution_count": null,
   "id": "ff17c90b",
   "metadata": {},
   "outputs": [],
   "source": []
  },
  {
   "cell_type": "code",
   "execution_count": null,
   "id": "7facc405",
   "metadata": {},
   "outputs": [],
   "source": []
  }
 ],
 "metadata": {
  "kernelspec": {
   "display_name": "Python 3 (ipykernel)",
   "language": "python",
   "name": "python3"
  },
  "language_info": {
   "codemirror_mode": {
    "name": "ipython",
    "version": 3
   },
   "file_extension": ".py",
   "mimetype": "text/x-python",
   "name": "python",
   "nbconvert_exporter": "python",
   "pygments_lexer": "ipython3",
   "version": "3.9.7"
  }
 },
 "nbformat": 4,
 "nbformat_minor": 5
}
