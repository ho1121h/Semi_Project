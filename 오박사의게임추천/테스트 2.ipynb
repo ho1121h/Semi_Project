{
 "cells": [
  {
   "cell_type": "code",
   "execution_count": 36,
   "id": "aef64c2f",
   "metadata": {},
   "outputs": [],
   "source": [
    "import pandas as pd\n",
    "import numpy as np\n",
    "\n",
    "from sklearn.metrics.pairwise import cosine_similarity\n",
    "from sklearn.metrics import mean_squared_error\n",
    "import tensorflow as tf\n",
    "import tqdm.notebook\n",
    "import math"
   ]
  },
  {
   "cell_type": "code",
   "execution_count": 38,
   "id": "6c3de8d2",
   "metadata": {},
   "outputs": [],
   "source": [
    "games = pd.read_csv(\"35개 리뷰.csv\")"
   ]
  },
  {
   "cell_type": "code",
   "execution_count": 39,
   "id": "790dd537",
   "metadata": {},
   "outputs": [
    {
     "data": {
      "text/plain": [
       "Index(['매출 순위', '평가', '게임번호', '리뷰'], dtype='object')"
      ]
     },
     "execution_count": 39,
     "metadata": {},
     "output_type": "execute_result"
    }
   ],
   "source": [
    "games.columns"
   ]
  },
  {
   "cell_type": "code",
   "execution_count": 40,
   "id": "f66357a2",
   "metadata": {},
   "outputs": [
    {
     "name": "stdout",
     "output_type": "stream",
     "text": [
      "Wall time: 6min 46s\n"
     ]
    },
    {
     "data": {
      "text/plain": [
       "array([[ 0.09052986,  0.12292156, -0.07909861, ...,  0.13016255,\n",
       "        -0.61483985, -0.7969742 ],\n",
       "       [-0.6115212 , -0.08164839,  0.36557508, ..., -0.2767721 ,\n",
       "        -0.22474022, -0.31497636],\n",
       "       [-0.41359904,  0.56800175, -0.45882323, ...,  0.4013433 ,\n",
       "        -0.15317903, -0.33741057],\n",
       "       [-0.5237669 , -0.06205383, -0.5288544 , ...,  0.18557669,\n",
       "        -0.7012549 , -0.29391292],\n",
       "       [-0.5583927 ,  0.5802672 ,  0.62484854, ...,  0.3931056 ,\n",
       "        -0.39497733, -0.46124303]], dtype=float32)"
      ]
     },
     "execution_count": 40,
     "metadata": {},
     "output_type": "execute_result"
    }
   ],
   "source": [
    "%%time\n",
    "from sentence_transformers import SentenceTransformer\n",
    "\n",
    "corpus = games['리뷰'].values.tolist() # 리뷰 임베딩\n",
    "\n",
    "model = SentenceTransformer('jhgan/ko-sroberta-multitask')\n",
    "\n",
    "embeddings = (model.encode(corpus))# 리뷰 데이터 전부 인코딩 (센텐스 버트 모델)\n",
    "\n",
    "embeddings[:5]\n",
    "#임베딩 = 정규화(컴퓨터가 알아먹게끔)"
   ]
  },
  {
   "cell_type": "code",
   "execution_count": 41,
   "id": "7fe5d73c",
   "metadata": {
    "scrolled": true
   },
   "outputs": [
    {
     "name": "stdout",
     "output_type": "stream",
     "text": [
      "중세시대\n"
     ]
    }
   ],
   "source": [
    "from sklearn.metrics.pairwise import cosine_similarity\n",
    "\n",
    "input_emb=model.encode(input()) # ex ) 어려운 게임\n",
    "games_sim = cosine_similarity([input_emb],embeddings)"
   ]
  },
  {
   "cell_type": "code",
   "execution_count": 44,
   "id": "ecda8bd5",
   "metadata": {},
   "outputs": [
    {
     "data": {
      "text/html": [
       "<div>\n",
       "<style scoped>\n",
       "    .dataframe tbody tr th:only-of-type {\n",
       "        vertical-align: middle;\n",
       "    }\n",
       "\n",
       "    .dataframe tbody tr th {\n",
       "        vertical-align: top;\n",
       "    }\n",
       "\n",
       "    .dataframe thead th {\n",
       "        text-align: right;\n",
       "    }\n",
       "</style>\n",
       "<table border=\"1\" class=\"dataframe\">\n",
       "  <thead>\n",
       "    <tr style=\"text-align: right;\">\n",
       "      <th></th>\n",
       "      <th>매출 순위</th>\n",
       "      <th>평가</th>\n",
       "    </tr>\n",
       "  </thead>\n",
       "  <tbody>\n",
       "    <tr>\n",
       "      <th>2145</th>\n",
       "      <td>Crusader Kings III Royal Edition</td>\n",
       "      <td>Very Positive&lt;br&gt;90% of the 54,224 user review...</td>\n",
       "    </tr>\n",
       "    <tr>\n",
       "      <th>239</th>\n",
       "      <td>Chivalry 2</td>\n",
       "      <td>Very Positive&lt;br&gt;84% of the 3,004 user reviews...</td>\n",
       "    </tr>\n",
       "    <tr>\n",
       "      <th>1837</th>\n",
       "      <td>Assassin's Creed Black Flag - Gold Edition</td>\n",
       "      <td>Very Positive&lt;br&gt;89% of the 46,229 user review...</td>\n",
       "    </tr>\n",
       "    <tr>\n",
       "      <th>2567</th>\n",
       "      <td>Project Zomboid</td>\n",
       "      <td>Very Positive&lt;br&gt;92% of the 77,001 user review...</td>\n",
       "    </tr>\n",
       "    <tr>\n",
       "      <th>767</th>\n",
       "      <td>Monster Hunter World: Iceborne</td>\n",
       "      <td>Mixed&lt;br&gt;55% of the 14,582 user reviews for th...</td>\n",
       "    </tr>\n",
       "    <tr>\n",
       "      <th>999</th>\n",
       "      <td>Assassin's Creed® Origins</td>\n",
       "      <td>Very Positive&lt;br&gt;86% of the 70,784 user review...</td>\n",
       "    </tr>\n",
       "    <tr>\n",
       "      <th>103</th>\n",
       "      <td>MONSTER HUNTER RISE</td>\n",
       "      <td>Very Positive&lt;br&gt;87% of the 20,884 user review...</td>\n",
       "    </tr>\n",
       "    <tr>\n",
       "      <th>958</th>\n",
       "      <td>Mount &amp; Blade II: Bannerlord</td>\n",
       "      <td>Very Positive&lt;br&gt;87% of the 148,226 user revie...</td>\n",
       "    </tr>\n",
       "    <tr>\n",
       "      <th>1238</th>\n",
       "      <td>Monster Hunter: World</td>\n",
       "      <td>Very Positive&lt;br&gt;87% of the 213,782 user revie...</td>\n",
       "    </tr>\n",
       "    <tr>\n",
       "      <th>2052</th>\n",
       "      <td>20 Minutes Till Dawn</td>\n",
       "      <td>Very Positive&lt;br&gt;93% of the 4,622 user reviews...</td>\n",
       "    </tr>\n",
       "  </tbody>\n",
       "</table>\n",
       "</div>"
      ],
      "text/plain": [
       "                                           매출 순위  \\\n",
       "2145            Crusader Kings III Royal Edition   \n",
       "239                                   Chivalry 2   \n",
       "1837  Assassin's Creed Black Flag - Gold Edition   \n",
       "2567                             Project Zomboid   \n",
       "767               Monster Hunter World: Iceborne   \n",
       "999                    Assassin's Creed® Origins   \n",
       "103                          MONSTER HUNTER RISE   \n",
       "958                 Mount & Blade II: Bannerlord   \n",
       "1238                       Monster Hunter: World   \n",
       "2052                        20 Minutes Till Dawn   \n",
       "\n",
       "                                                     평가  \n",
       "2145  Very Positive<br>90% of the 54,224 user review...  \n",
       "239   Very Positive<br>84% of the 3,004 user reviews...  \n",
       "1837  Very Positive<br>89% of the 46,229 user review...  \n",
       "2567  Very Positive<br>92% of the 77,001 user review...  \n",
       "767   Mixed<br>55% of the 14,582 user reviews for th...  \n",
       "999   Very Positive<br>86% of the 70,784 user review...  \n",
       "103   Very Positive<br>87% of the 20,884 user review...  \n",
       "958   Very Positive<br>87% of the 148,226 user revie...  \n",
       "1238  Very Positive<br>87% of the 213,782 user revie...  \n",
       "2052  Very Positive<br>93% of the 4,622 user reviews...  "
      ]
     },
     "execution_count": 44,
     "metadata": {},
     "output_type": "execute_result"
    }
   ],
   "source": [
    "games_sim_sorted_ind = games_sim.argsort()[:, ::-1]\n",
    "similar_indexes = games_sim_sorted_ind.reshape(-1)\n",
    "recom_games=games.iloc[similar_indexes]\n",
    "\n",
    "\n",
    "df = pd.DataFrame(recom_games[['매출 순위','평가']].drop_duplicates())\n",
    "df[:10]"
   ]
  },
  {
   "cell_type": "code",
   "execution_count": null,
   "id": "a268863b",
   "metadata": {},
   "outputs": [],
   "source": []
  },
  {
   "cell_type": "code",
   "execution_count": null,
   "id": "0ce1000f",
   "metadata": {},
   "outputs": [],
   "source": []
  },
  {
   "cell_type": "code",
   "execution_count": null,
   "id": "ff17c90b",
   "metadata": {},
   "outputs": [],
   "source": []
  },
  {
   "cell_type": "code",
   "execution_count": null,
   "id": "7facc405",
   "metadata": {},
   "outputs": [],
   "source": []
  }
 ],
 "metadata": {
  "kernelspec": {
   "display_name": "Python 3 (ipykernel)",
   "language": "python",
   "name": "python3"
  },
  "language_info": {
   "codemirror_mode": {
    "name": "ipython",
    "version": 3
   },
   "file_extension": ".py",
   "mimetype": "text/x-python",
   "name": "python",
   "nbconvert_exporter": "python",
   "pygments_lexer": "ipython3",
   "version": "3.9.7"
  }
 },
 "nbformat": 4,
 "nbformat_minor": 5
}
